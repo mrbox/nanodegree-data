{
 "cells": [
  {
   "cell_type": "markdown",
   "metadata": {},
   "source": [
    "#### What is our independent variable? What is our dependent variable?"
   ]
  },
  {
   "cell_type": "markdown",
   "metadata": {},
   "source": [
    "Our independent variable is color of word.\n",
    "Our dependent variable is time it takes to name the ink color."
   ]
  },
  {
   "cell_type": "markdown",
   "metadata": {},
   "source": [
    "#### What is an appropriate set of hypotheses for this task? What kind of statistical test do you expect to perform? Justify your choices."
   ]
  },
  {
   "cell_type": "markdown",
   "metadata": {},
   "source": [
    "H_0 is that μC=μI which means that average of response times for population of congruent and incongruent words will be the same after perfoming test.\n",
    "\n",
    "H_1 is that μC!=μI which means that average of response times for population of congruent and incongruent words will be different after perfoming test.\n",
    "\n",
    "I've chosen these hypothesis because we're going to check if we can reject first one in favour of second one. I've also chosen H_1 like this(two-tailed) because I'd like to know if there is significat difference between response times in any direction.\n",
    "\n",
    "I'm going to perform a T-test because we know only sample parameters. I've also chosen dependent sample test because single person responded in both groups- congruent and incongruent."
   ]
  },
  {
   "cell_type": "markdown",
   "metadata": {},
   "source": [
    "#### Report some descriptive statistics regarding this dataset."
   ]
  },
  {
   "cell_type": "code",
   "execution_count": 1,
   "metadata": {
    "collapsed": false
   },
   "outputs": [
    {
     "data": {
      "text/html": [
       "<div>\n",
       "<table border=\"1\" class=\"dataframe\">\n",
       "  <thead>\n",
       "    <tr style=\"text-align: right;\">\n",
       "      <th></th>\n",
       "      <th>Congruent</th>\n",
       "      <th>Incongruent</th>\n",
       "    </tr>\n",
       "  </thead>\n",
       "  <tbody>\n",
       "    <tr>\n",
       "      <th>0</th>\n",
       "      <td>12.079</td>\n",
       "      <td>19.278</td>\n",
       "    </tr>\n",
       "    <tr>\n",
       "      <th>1</th>\n",
       "      <td>16.791</td>\n",
       "      <td>18.741</td>\n",
       "    </tr>\n",
       "    <tr>\n",
       "      <th>2</th>\n",
       "      <td>9.564</td>\n",
       "      <td>21.214</td>\n",
       "    </tr>\n",
       "    <tr>\n",
       "      <th>3</th>\n",
       "      <td>8.630</td>\n",
       "      <td>15.687</td>\n",
       "    </tr>\n",
       "    <tr>\n",
       "      <th>4</th>\n",
       "      <td>14.669</td>\n",
       "      <td>22.803</td>\n",
       "    </tr>\n",
       "  </tbody>\n",
       "</table>\n",
       "</div>"
      ],
      "text/plain": [
       "   Congruent  Incongruent\n",
       "0     12.079       19.278\n",
       "1     16.791       18.741\n",
       "2      9.564       21.214\n",
       "3      8.630       15.687\n",
       "4     14.669       22.803"
      ]
     },
     "execution_count": 1,
     "metadata": {},
     "output_type": "execute_result"
    }
   ],
   "source": [
    "import pandas as pd\n",
    "path = r'~/Pobrane/stroopdata.csv'\n",
    "dataFrame = pd.read_csv(path)\n",
    "dataFrame.head()"
   ]
  },
  {
   "cell_type": "code",
   "execution_count": 2,
   "metadata": {
    "collapsed": false
   },
   "outputs": [
    {
     "name": "stdout",
     "output_type": "stream",
     "text": [
      "Mean for congruent words: 14.051125\n",
      "Mean for incongruent words: 22.0159166667\n",
      "Median for congruent words: 14.3565\n",
      "Median for incongruent words: 21.0175\n"
     ]
    }
   ],
   "source": [
    "mean_congruent = dataFrame['Congruent'].mean()\n",
    "mean_incongruent = dataFrame['Incongruent'].mean()\n",
    "median_congruent = dataFrame['Congruent'].median()\n",
    "median_incongruent = dataFrame['Incongruent'].median()\n",
    "print \"Mean for congruent words:\", mean_congruent\n",
    "print \"Mean for incongruent words:\", mean_incongruent\n",
    "print \"Median for congruent words:\", median_congruent\n",
    "print \"Median for incongruent words:\", median_incongruent"
   ]
  },
  {
   "cell_type": "code",
   "execution_count": 3,
   "metadata": {
    "collapsed": false
   },
   "outputs": [
    {
     "name": "stdout",
     "output_type": "stream",
     "text": [
      "Variance for congruent words: 12.6690290707\n",
      "Variance for incongruent words: 23.0117570362\n"
     ]
    }
   ],
   "source": [
    "variance_congruent = dataFrame['Congruent'].var()\n",
    "variance_incongruent = dataFrame['Incongruent'].var()\n",
    "print \"Variance for congruent words:\", variance_congruent\n",
    "print \"Variance for incongruent words:\", variance_incongruent"
   ]
  },
  {
   "cell_type": "code",
   "execution_count": 4,
   "metadata": {
    "collapsed": false
   },
   "outputs": [
    {
     "name": "stdout",
     "output_type": "stream",
     "text": [
      "Standard sample deviation for congruent words: 3.55935795765\n",
      "Standard sample deviation for incongruent words: 4.79705712247\n"
     ]
    }
   ],
   "source": [
    "stdev_congruent = dataFrame['Congruent'].std()\n",
    "stdev_incongruent = dataFrame['Incongruent'].std()\n",
    "print \"Standard sample deviation for congruent words:\", stdev_congruent\n",
    "print \"Standard sample deviation for incongruent words:\", stdev_incongruent"
   ]
  },
  {
   "cell_type": "markdown",
   "metadata": {},
   "source": [
    "#### Provide one or two visualizations that show the distribution of the sample data."
   ]
  },
  {
   "cell_type": "code",
   "execution_count": 5,
   "metadata": {
    "collapsed": true
   },
   "outputs": [],
   "source": [
    "%matplotlib inline\n",
    "import matplotlib.pyplot as plt"
   ]
  },
  {
   "cell_type": "code",
   "execution_count": 6,
   "metadata": {
    "collapsed": false
   },
   "outputs": [
    {
     "data": {
      "text/plain": [
       "<matplotlib.axes._subplots.AxesSubplot at 0x7fecf816b610>"
      ]
     },
     "execution_count": 6,
     "metadata": {},
     "output_type": "execute_result"
    },
    {
     "data": {
      "image/png": "[encoded data removed]",
      "text/plain": [
       "<matplotlib.figure.Figure at 0x7fecf8157f90>"
      ]
     },
     "metadata": {},
     "output_type": "display_data"
    }
   ],
   "source": [
    "dataFrame.plot(x='Congruent', kind='hist')"
   ]
  },
  {
   "cell_type": "markdown",
   "metadata": {},
   "source": [
    "Our sample is really small but if I would have to say something about this plot, I would say that it's positively skewed."
   ]
  },
  {
   "cell_type": "code",
   "execution_count": 7,
   "metadata": {
    "collapsed": false
   },
   "outputs": [
    {
     "data": {
      "text/plain": [
       "<matplotlib.axes._subplots.AxesSubplot at 0x7fecf7dd47d0>"
      ]
     },
     "execution_count": 7,
     "metadata": {},
     "output_type": "execute_result"
    },
    {
     "data": {
      "image/png": "[encoded data removed]",
      "text/plain": [
       "<matplotlib.figure.Figure at 0x7fecf7df9f50>"
      ]
     },
     "metadata": {},
     "output_type": "display_data"
    }
   ],
   "source": [
    "dataFrame.plot(x='Incongruent', kind='hist')"
   ]
  },
  {
   "cell_type": "markdown",
   "metadata": {},
   "source": [
    "Again- sample is small but it looks that it's a bit less skewed than plot of congruent words times. It might come into uniform shape but from this sample we can't say anything more."
   ]
  },
  {
   "cell_type": "markdown",
   "metadata": {},
   "source": [
    "#### Now, perform the statistical test and report your results. What is your confidence level and your critical statistic value?"
   ]
  },
  {
   "cell_type": "code",
   "execution_count": 11,
   "metadata": {
    "collapsed": false
   },
   "outputs": [],
   "source": [
    "import math\n",
    "sample_size=len(dataFrame)\n",
    "mean_difference = mean_congruent - mean_incongruent\n",
    "standard_deviation = dataFrame.apply(lambda row: row['Congruent'] - row['Incongruent'], axis=1).std()\n",
    "t_score = mean_difference/(standard_deviation/math.sqrt(sample_size))\n",
    "critical_value = 3.845\n",
    "confidence_level = '.001'"
   ]
  },
  {
   "cell_type": "code",
   "execution_count": 12,
   "metadata": {
    "collapsed": false
   },
   "outputs": [
    {
     "name": "stdout",
     "output_type": "stream",
     "text": [
      "T-score is -8.02070694411\n",
      "We reject H0 with confidence level .001\n"
     ]
    }
   ],
   "source": [
    "print \"T-score is\", t_score\n",
    "if critical_value < abs(t_score):\n",
    "    print \"We reject H0 with confidence level %s\" % confidence_level\n",
    "else:\n",
    "    print \"We can't reject H0 with confidence level %s\" % confidence_level"
   ]
  },
  {
   "cell_type": "markdown",
   "metadata": {},
   "source": [
    "Our T-score is really high so I reject null hypothesis with confidence level of more than 99.9%. My conclusion is that statistically we can say that response times for incongruent words are higher than congruent words. Result of experiment match up with my expectations- however the T-score is higher than I expected."
   ]
  }
 ],
 "metadata": {
  "kernelspec": {
   "display_name": "Python 2",
   "language": "python",
   "name": "python2"
  },
  "language_info": {
   "codemirror_mode": {
    "name": "ipython",
    "version": 2
   },
   "file_extension": ".py",
   "mimetype": "text/x-python",
   "name": "python",
   "nbconvert_exporter": "python",
   "pygments_lexer": "ipython2",
   "version": "2.7.6"
  }
 },
 "nbformat": 4,
 "nbformat_minor": 0
}
